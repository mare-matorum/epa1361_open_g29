{
 "cells": [
  {
   "cell_type": "code",
   "execution_count": 1,
   "id": "ced26046",
   "metadata": {},
   "outputs": [
    {
     "name": "stderr",
     "output_type": "stream",
     "text": [
      "[MainProcess/INFO] results loaded succesfully from C:\\Users\\felo1\\OneDrive\\Documents\\GitHub\\epa1361_open_g29\\final assignment\\SECOND candidate solutions MORDM 1000scenarios.tar.gz\n"
     ]
    }
   ],
   "source": [
    "import pandas as pd\n",
    "import matplotlib.pyplot as plt\n",
    "import seaborn as sns\n",
    "from ema_workbench.analysis import prim\n",
    "from ema_workbench import ema_logging, load_results\n",
    "\n",
    "ema_logging.log_to_stderr(ema_logging.INFO)\n",
    "\n",
    "results= load_results ('SECOND candidate solutions MORDM 1000scenarios.tar.gz')"
   ]
  },
  {
   "cell_type": "code",
   "execution_count": 27,
   "id": "1c8c761a",
   "metadata": {},
   "outputs": [],
   "source": [
    "experiments1, outcomes1 = results\n",
    "outcomes1.keys()\n",
    "\n",
    "policies=experiments1[['policy']]\n",
    "policies\n",
    "\n",
    "policies=experiments1[['policy']]\n",
    "policies\n",
    "\n",
    "outcomesdf = pd.DataFrame.from_dict(outcomes1)\n",
    "deathsdf= outcomesdf[['A.1_Expected Number of Deaths', \n",
    "                             'A.2_Expected Number of Deaths', \n",
    "                             'A.3_Expected Number of Deaths', \n",
    "                             'A.4_Expected Number of Deaths',\n",
    "                             'A.5_Expected Number of Deaths']]\n",
    "\n",
    "deathsdf.insert(0,'policy',policies)\n",
    "deathsdf\n",
    "\n",
    "\n",
    "deathsdf.to_csv(r'death analysis.csv')"
   ]
  },
  {
   "cell_type": "code",
   "execution_count": 28,
   "id": "748fd03e",
   "metadata": {},
   "outputs": [
    {
     "data": {
      "text/plain": [
       "dict_keys(['A.1 Total Costs', 'A.1_Expected Number of Deaths', 'A.2 Total Costs', 'A.2_Expected Number of Deaths', 'A.3 Total Costs', 'A.3_Expected Number of Deaths', 'A.4 Total Costs', 'A.4_Expected Number of Deaths', 'A.5 Total Costs', 'A.5_Expected Number of Deaths', 'RfR Total Costs', 'Expected Evacuation Costs'])"
      ]
     },
     "execution_count": 28,
     "metadata": {},
     "output_type": "execute_result"
    }
   ],
   "source": [
    "outcomes.keys()"
   ]
  },
  {
   "cell_type": "code",
   "execution_count": 29,
   "id": "734c5934",
   "metadata": {},
   "outputs": [],
   "source": [
    "experiments1, outcomes1 = results\n",
    "outcomes1.keys()\n",
    "\n",
    "policies=experiments1[['policy']]\n",
    "policies\n",
    "\n",
    "policies=experiments1[['policy']]\n",
    "policies\n",
    "\n",
    "outcomesdf = pd.DataFrame.from_dict(outcomes1)\n",
    "costsdf= outcomesdf[['A.1 Total Costs',\n",
    "                     'A.2 Total Costs',\n",
    "                     'A.3 Total Costs', \n",
    "                     'A.4 Total Costs', \n",
    "                     'A.5 Total Costs', \n",
    "                     'RfR Total Costs',\n",
    "                     'Expected Evacuation Costs']]\n",
    "\n",
    "costsdf.insert(0,'policy',policies)\n",
    "deathsdf\n",
    "\n",
    "\n",
    "costsdf.to_csv(r'costs analysis.csv')"
   ]
  },
  {
   "cell_type": "code",
   "execution_count": null,
   "id": "27644735",
   "metadata": {},
   "outputs": [],
   "source": []
  }
 ],
 "metadata": {
  "kernelspec": {
   "display_name": "Python 3",
   "language": "python",
   "name": "python3"
  },
  "language_info": {
   "codemirror_mode": {
    "name": "ipython",
    "version": 3
   },
   "file_extension": ".py",
   "mimetype": "text/x-python",
   "name": "python",
   "nbconvert_exporter": "python",
   "pygments_lexer": "ipython3",
   "version": "3.8.3"
  }
 },
 "nbformat": 4,
 "nbformat_minor": 5
}
