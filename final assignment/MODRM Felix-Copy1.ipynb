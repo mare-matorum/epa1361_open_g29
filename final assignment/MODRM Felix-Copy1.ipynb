{
 "cells": [
  {
   "cell_type": "code",
   "execution_count": 2,
   "metadata": {},
   "outputs": [],
   "source": [
    "from __future__ import (unicode_literals, print_function, absolute_import,\n",
    "                        division)\n",
    "\n",
    "\n",
    "from ema_workbench import (Model, MultiprocessingEvaluator, Policy,\n",
    "                           Scenario, IntegerParameter)\n",
    "from ema_workbench.em_framework.evaluators import BaseEvaluator\n",
    "\n",
    "from ema_workbench.em_framework.evaluators import perform_experiments\n",
    "from ema_workbench.em_framework.optimization import (HyperVolume,\n",
    "                                                     EpsilonProgress)\n",
    "from ema_workbench.em_framework.samplers import sample_uncertainties\n",
    "from ema_workbench.util import ema_logging\n",
    "import time\n",
    "from problem_formulation import get_model_for_problem_formulation\n",
    "import pandas as pd\n",
    "import seaborn as sns\n",
    "from matplotlib import pyplot as plt\n"
   ]
  },
  {
   "cell_type": "code",
   "execution_count": 3,
   "metadata": {},
   "outputs": [],
   "source": [
    "if __name__ == '__main__':\n",
    "    ema_logging.log_to_stderr(ema_logging.INFO)\n",
    "\n",
    "    model, steps = get_model_for_problem_formulation(3)\n",
    "\n",
    "    reference_values = {'Bmax': 175, 'Brate': 1.5, 'pfail': 0.5,\n",
    "                        'discount rate 0': 3.5, 'discount rate 1': 3.5,\n",
    "                        'discount rate 2': 3.5,\n",
    "                        'ID flood wave shape': 4}\n",
    "    scen1 = {}\n",
    "\n",
    "    for key in model.uncertainties:\n",
    "        name_split = key.name.split('_')\n",
    "\n",
    "        if len(name_split) == 1:\n",
    "            scen1.update({key.name: reference_values[key.name]})\n",
    "\n",
    "        else:\n",
    "            scen1.update({key.name: reference_values[name_split[1]]})\n",
    "\n",
    "    ref_scenario = Scenario('reference', **scen1)"
   ]
  },
  {
   "cell_type": "code",
   "execution_count": 4,
   "metadata": {},
   "outputs": [
    {
     "name": "stderr",
     "output_type": "stream",
     "text": [
      "[MainProcess/INFO] pool started\n",
      "[MainProcess/INFO] performing 2 scenarios * 2 policies * 1 model(s) = 4 experiments\n",
      "[MainProcess/INFO] 1 cases completed\n",
      "[MainProcess/INFO] 2 cases completed\n",
      "[MainProcess/INFO] 3 cases completed\n",
      "[MainProcess/INFO] 4 cases completed\n",
      "[MainProcess/INFO] experiments finished\n",
      "[MainProcess/INFO] terminating pool\n"
     ]
    }
   ],
   "source": [
    "#Run scenarios ansd policies random\n",
    "with MultiprocessingEvaluator(dike_model) as evaluator:\n",
    "        results = evaluator.perform_experiments(2, 2)"
   ]
  },
  {
   "cell_type": "code",
   "execution_count": 4,
   "metadata": {},
   "outputs": [
    {
     "name": "stderr",
     "output_type": "stream",
     "text": [
      "[MainProcess/INFO] pool started\n",
      "[MainProcess/INFO] generation 0: 0/30000 nfe\n",
      "[MainProcess/INFO] generation 5: 499/30000 nfe\n",
      "[MainProcess/INFO] generation 10: 996/30000 nfe\n",
      "[MainProcess/INFO] generation 15: 1494/30000 nfe\n",
      "[MainProcess/INFO] generation 20: 1992/30000 nfe\n",
      "[MainProcess/INFO] generation 25: 2489/30000 nfe\n",
      "[MainProcess/INFO] generation 30: 2989/30000 nfe\n",
      "[MainProcess/INFO] generation 35: 3489/30000 nfe\n",
      "[MainProcess/INFO] generation 40: 3988/30000 nfe\n",
      "[MainProcess/INFO] generation 45: 4486/30000 nfe\n",
      "[MainProcess/INFO] generation 50: 4985/30000 nfe\n",
      "[MainProcess/INFO] generation 55: 5482/30000 nfe\n",
      "[MainProcess/INFO] generation 60: 5978/30000 nfe\n",
      "[MainProcess/INFO] generation 65: 6476/30000 nfe\n",
      "[MainProcess/INFO] generation 70: 6973/30000 nfe\n",
      "[MainProcess/INFO] generation 75: 7470/30000 nfe\n",
      "[MainProcess/INFO] generation 80: 7968/30000 nfe\n",
      "[MainProcess/INFO] generation 85: 8466/30000 nfe\n",
      "[MainProcess/INFO] generation 90: 8962/30000 nfe\n",
      "[MainProcess/INFO] generation 95: 9461/30000 nfe\n",
      "[MainProcess/INFO] generation 100: 9961/30000 nfe\n",
      "[MainProcess/INFO] generation 105: 21436/30000 nfe\n",
      "[MainProcess/INFO] optimization completed, found 1315 solutions\n",
      "[MainProcess/INFO] terminating pool\n"
     ]
    }
   ],
   "source": [
    "#Run optimization to find solutions in the pareto front\n",
    "convergence_metrics = [EpsilonProgress()]\n",
    "\n",
    "espilon = [1e3] * len(model.outcomes)\n",
    "#espilon = [1000000 ,1, 1000000,1,  1000000,1,1000000,1,1000000,1, 1000000,1000000]   \n",
    " \n",
    "nfe = 30000 # 200 proof of principle only, way to low for actual use\n",
    "\n",
    "with MultiprocessingEvaluator(model) as evaluator:\n",
    "        results, convergence = evaluator.optimize(nfe=nfe, searchover='levers',\n",
    "                                                  epsilons=espilon,\n",
    "                                                  convergence=convergence_metrics,\n",
    "                                                  reference=ref_scenario)"
   ]
  },
  {
   "cell_type": "code",
   "execution_count": 6,
   "metadata": {},
   "outputs": [
    {
     "data": {
      "image/png": "[encoded data removed]",
      "text/plain": [
       "<Figure size 576x288 with 2 Axes>"
      ]
     },
     "metadata": {
      "needs_background": "light"
     },
     "output_type": "display_data"
    }
   ],
   "source": [
    "fig, (ax1, ax2) = plt.subplots(ncols=2, sharex=True, figsize=(8,4))\n",
    "ax1.plot(convergence.nfe, convergence.epsilon_progress)\n",
    "ax1.set_ylabel('$\\epsilon$-progress')\n",
    "ax1.set_xlabel('number of function evaluations')\n",
    "plt.show()"
   ]
  },
  {
   "cell_type": "code",
   "execution_count": 5,
   "metadata": {},
   "outputs": [
    {
     "data": {
      "text/html": [
       "<div>\n",
       "<style scoped>\n",
       "    .dataframe tbody tr th:only-of-type {\n",
       "        vertical-align: middle;\n",
       "    }\n",
       "\n",
       "    .dataframe tbody tr th {\n",
       "        vertical-align: top;\n",
       "    }\n",
       "\n",
       "    .dataframe thead th {\n",
       "        text-align: right;\n",
       "    }\n",
       "</style>\n",
       "<table border=\"1\" class=\"dataframe\">\n",
       "  <thead>\n",
       "    <tr style=\"text-align: right;\">\n",
       "      <th></th>\n",
       "      <th>0_RfR 0</th>\n",
       "      <th>0_RfR 1</th>\n",
       "      <th>0_RfR 2</th>\n",
       "      <th>1_RfR 0</th>\n",
       "      <th>1_RfR 1</th>\n",
       "      <th>1_RfR 2</th>\n",
       "      <th>2_RfR 0</th>\n",
       "      <th>2_RfR 1</th>\n",
       "      <th>2_RfR 2</th>\n",
       "      <th>3_RfR 0</th>\n",
       "      <th>...</th>\n",
       "      <th>A.3 Total Costs</th>\n",
       "      <th>A.3_Expected Number of Deaths</th>\n",
       "      <th>A.4 Total Costs</th>\n",
       "      <th>A.4_Expected Number of Deaths</th>\n",
       "      <th>A.5 Total Costs</th>\n",
       "      <th>A.5_Expected Number of Deaths</th>\n",
       "      <th>RfR Total Costs</th>\n",
       "      <th>Expected Evacuation Costs</th>\n",
       "      <th>sum rfr</th>\n",
       "      <th>sum deaths</th>\n",
       "    </tr>\n",
       "  </thead>\n",
       "  <tbody>\n",
       "    <tr>\n",
       "      <th>107</th>\n",
       "      <td>0</td>\n",
       "      <td>0</td>\n",
       "      <td>0</td>\n",
       "      <td>0</td>\n",
       "      <td>0</td>\n",
       "      <td>0</td>\n",
       "      <td>0</td>\n",
       "      <td>0</td>\n",
       "      <td>0</td>\n",
       "      <td>0</td>\n",
       "      <td>...</td>\n",
       "      <td>6.286508e+07</td>\n",
       "      <td>0.0</td>\n",
       "      <td>1.739245e+07</td>\n",
       "      <td>0.005904</td>\n",
       "      <td>7.536509e+07</td>\n",
       "      <td>0.019343</td>\n",
       "      <td>0.0</td>\n",
       "      <td>0.0</td>\n",
       "      <td>0</td>\n",
       "      <td>0.025247</td>\n",
       "    </tr>\n",
       "    <tr>\n",
       "      <th>128</th>\n",
       "      <td>0</td>\n",
       "      <td>0</td>\n",
       "      <td>0</td>\n",
       "      <td>0</td>\n",
       "      <td>0</td>\n",
       "      <td>0</td>\n",
       "      <td>0</td>\n",
       "      <td>0</td>\n",
       "      <td>0</td>\n",
       "      <td>0</td>\n",
       "      <td>...</td>\n",
       "      <td>9.444945e+07</td>\n",
       "      <td>0.0</td>\n",
       "      <td>3.359363e+07</td>\n",
       "      <td>0.002875</td>\n",
       "      <td>5.294609e+07</td>\n",
       "      <td>0.028814</td>\n",
       "      <td>0.0</td>\n",
       "      <td>0.0</td>\n",
       "      <td>0</td>\n",
       "      <td>0.031688</td>\n",
       "    </tr>\n",
       "    <tr>\n",
       "      <th>956</th>\n",
       "      <td>0</td>\n",
       "      <td>0</td>\n",
       "      <td>0</td>\n",
       "      <td>0</td>\n",
       "      <td>0</td>\n",
       "      <td>0</td>\n",
       "      <td>0</td>\n",
       "      <td>0</td>\n",
       "      <td>0</td>\n",
       "      <td>0</td>\n",
       "      <td>...</td>\n",
       "      <td>7.751737e+07</td>\n",
       "      <td>0.0</td>\n",
       "      <td>3.713830e+07</td>\n",
       "      <td>0.000000</td>\n",
       "      <td>4.419351e+07</td>\n",
       "      <td>0.000000</td>\n",
       "      <td>0.0</td>\n",
       "      <td>0.0</td>\n",
       "      <td>0</td>\n",
       "      <td>0.000000</td>\n",
       "    </tr>\n",
       "  </tbody>\n",
       "</table>\n",
       "<p>3 rows × 45 columns</p>\n",
       "</div>"
      ],
      "text/plain": [
       "     0_RfR 0  0_RfR 1  0_RfR 2  1_RfR 0  1_RfR 1  1_RfR 2  2_RfR 0  2_RfR 1  \\\n",
       "107        0        0        0        0        0        0        0        0   \n",
       "128        0        0        0        0        0        0        0        0   \n",
       "956        0        0        0        0        0        0        0        0   \n",
       "\n",
       "     2_RfR 2  3_RfR 0  ...  A.3 Total Costs  A.3_Expected Number of Deaths  \\\n",
       "107        0        0  ...     6.286508e+07                            0.0   \n",
       "128        0        0  ...     9.444945e+07                            0.0   \n",
       "956        0        0  ...     7.751737e+07                            0.0   \n",
       "\n",
       "     A.4 Total Costs  A.4_Expected Number of Deaths  A.5 Total Costs  \\\n",
       "107     1.739245e+07                       0.005904     7.536509e+07   \n",
       "128     3.359363e+07                       0.002875     5.294609e+07   \n",
       "956     3.713830e+07                       0.000000     4.419351e+07   \n",
       "\n",
       "     A.5_Expected Number of Deaths  RfR Total Costs  \\\n",
       "107                       0.019343              0.0   \n",
       "128                       0.028814              0.0   \n",
       "956                       0.000000              0.0   \n",
       "\n",
       "     Expected Evacuation Costs  sum rfr  sum deaths  \n",
       "107                        0.0        0    0.025247  \n",
       "128                        0.0        0    0.031688  \n",
       "956                        0.0        0    0.000000  \n",
       "\n",
       "[3 rows x 45 columns]"
      ]
     },
     "execution_count": 5,
     "metadata": {},
     "output_type": "execute_result"
    }
   ],
   "source": [
    "#Sum the different RfR values to identify the one with 0 for the our municiaplites. identify intresting solutions\n",
    "results [\"sum rfr\"] = (results ['0_RfR 0'] + \n",
    "                       results ['0_RfR 1'] +\n",
    "                       results ['0_RfR 2'] +\n",
    "                       results ['1_RfR 0'] + \n",
    "                       results ['1_RfR 1'] +\n",
    "                       results ['1_RfR 2'] +\n",
    "                       results ['2_RfR 0'] + \n",
    "                       results ['2_RfR 1'] +\n",
    "                       results ['2_RfR 2'])\n",
    "\n",
    "\n",
    "\n",
    "\n",
    "results [\"sum deaths\"] = (results ['A.1_Expected Number of Deaths'] + \n",
    "                       results ['A.2_Expected Number of Deaths'] +\n",
    "                       results ['A.3_Expected Number of Deaths'] +\n",
    "                       results ['A.4_Expected Number of Deaths'] + \n",
    "                       results ['A.5_Expected Number of Deaths'])\n",
    "                     \n",
    "\n",
    "\n",
    "int_sol = results[results[\"sum rfr\"] <= 0 ] #no RFR costs for dikes\n",
    "int_solu = int_sol[int_sol['A.1_Expected Number of Deaths'] <= 0 ] #no deaths in dike 1\n",
    "int_solut = int_solu[int_solu['A.2_Expected Number of Deaths'] <= 0.00148 ] #0.00148 for dike 2\n",
    "int_solutions = int_solut[int_solut['A.3_Expected Number of Deaths'] <= 0.001 ] #0.001 for dike 3\n",
    "# int_solutions\n",
    "\n",
    "int_solutions\n"
   ]
  },
  {
   "cell_type": "code",
   "execution_count": null,
   "metadata": {},
   "outputs": [],
   "source": []
  },
  {
   "cell_type": "code",
   "execution_count": 7,
   "metadata": {},
   "outputs": [
    {
     "data": {
      "text/html": [
       "<div>\n",
       "<style scoped>\n",
       "    .dataframe tbody tr th:only-of-type {\n",
       "        vertical-align: middle;\n",
       "    }\n",
       "\n",
       "    .dataframe tbody tr th {\n",
       "        vertical-align: top;\n",
       "    }\n",
       "\n",
       "    .dataframe thead th {\n",
       "        text-align: right;\n",
       "    }\n",
       "</style>\n",
       "<table border=\"1\" class=\"dataframe\">\n",
       "  <thead>\n",
       "    <tr style=\"text-align: right;\">\n",
       "      <th></th>\n",
       "      <th>0_RfR 0</th>\n",
       "      <th>0_RfR 1</th>\n",
       "      <th>0_RfR 2</th>\n",
       "      <th>1_RfR 0</th>\n",
       "      <th>1_RfR 1</th>\n",
       "      <th>1_RfR 2</th>\n",
       "      <th>2_RfR 0</th>\n",
       "      <th>2_RfR 1</th>\n",
       "      <th>2_RfR 2</th>\n",
       "      <th>3_RfR 0</th>\n",
       "      <th>...</th>\n",
       "      <th>A.2_DikeIncrease 2</th>\n",
       "      <th>A.3_DikeIncrease 0</th>\n",
       "      <th>A.3_DikeIncrease 1</th>\n",
       "      <th>A.3_DikeIncrease 2</th>\n",
       "      <th>A.4_DikeIncrease 0</th>\n",
       "      <th>A.4_DikeIncrease 1</th>\n",
       "      <th>A.4_DikeIncrease 2</th>\n",
       "      <th>A.5_DikeIncrease 0</th>\n",
       "      <th>A.5_DikeIncrease 1</th>\n",
       "      <th>A.5_DikeIncrease 2</th>\n",
       "    </tr>\n",
       "  </thead>\n",
       "  <tbody>\n",
       "    <tr>\n",
       "      <th>107</th>\n",
       "      <td>0</td>\n",
       "      <td>0</td>\n",
       "      <td>0</td>\n",
       "      <td>0</td>\n",
       "      <td>0</td>\n",
       "      <td>0</td>\n",
       "      <td>0</td>\n",
       "      <td>0</td>\n",
       "      <td>0</td>\n",
       "      <td>0</td>\n",
       "      <td>...</td>\n",
       "      <td>7</td>\n",
       "      <td>5</td>\n",
       "      <td>5</td>\n",
       "      <td>0</td>\n",
       "      <td>0</td>\n",
       "      <td>0</td>\n",
       "      <td>3</td>\n",
       "      <td>0</td>\n",
       "      <td>3</td>\n",
       "      <td>1</td>\n",
       "    </tr>\n",
       "    <tr>\n",
       "      <th>128</th>\n",
       "      <td>0</td>\n",
       "      <td>0</td>\n",
       "      <td>0</td>\n",
       "      <td>0</td>\n",
       "      <td>0</td>\n",
       "      <td>0</td>\n",
       "      <td>0</td>\n",
       "      <td>0</td>\n",
       "      <td>0</td>\n",
       "      <td>0</td>\n",
       "      <td>...</td>\n",
       "      <td>5</td>\n",
       "      <td>7</td>\n",
       "      <td>1</td>\n",
       "      <td>4</td>\n",
       "      <td>0</td>\n",
       "      <td>10</td>\n",
       "      <td>1</td>\n",
       "      <td>2</td>\n",
       "      <td>0</td>\n",
       "      <td>0</td>\n",
       "    </tr>\n",
       "    <tr>\n",
       "      <th>956</th>\n",
       "      <td>0</td>\n",
       "      <td>0</td>\n",
       "      <td>0</td>\n",
       "      <td>0</td>\n",
       "      <td>0</td>\n",
       "      <td>0</td>\n",
       "      <td>0</td>\n",
       "      <td>0</td>\n",
       "      <td>0</td>\n",
       "      <td>0</td>\n",
       "      <td>...</td>\n",
       "      <td>1</td>\n",
       "      <td>7</td>\n",
       "      <td>0</td>\n",
       "      <td>7</td>\n",
       "      <td>7</td>\n",
       "      <td>4</td>\n",
       "      <td>2</td>\n",
       "      <td>7</td>\n",
       "      <td>0</td>\n",
       "      <td>0</td>\n",
       "    </tr>\n",
       "  </tbody>\n",
       "</table>\n",
       "<p>3 rows × 31 columns</p>\n",
       "</div>"
      ],
      "text/plain": [
       "     0_RfR 0  0_RfR 1  0_RfR 2  1_RfR 0  1_RfR 1  1_RfR 2  2_RfR 0  2_RfR 1  \\\n",
       "107        0        0        0        0        0        0        0        0   \n",
       "128        0        0        0        0        0        0        0        0   \n",
       "956        0        0        0        0        0        0        0        0   \n",
       "\n",
       "     2_RfR 2  3_RfR 0  ...  A.2_DikeIncrease 2  A.3_DikeIncrease 0  \\\n",
       "107        0        0  ...                   7                   5   \n",
       "128        0        0  ...                   5                   7   \n",
       "956        0        0  ...                   1                   7   \n",
       "\n",
       "     A.3_DikeIncrease 1  A.3_DikeIncrease 2  A.4_DikeIncrease 0  \\\n",
       "107                   5                   0                   0   \n",
       "128                   1                   4                   0   \n",
       "956                   0                   7                   7   \n",
       "\n",
       "     A.4_DikeIncrease 1  A.4_DikeIncrease 2  A.5_DikeIncrease 0  \\\n",
       "107                   0                   3                   0   \n",
       "128                  10                   1                   2   \n",
       "956                   4                   2                   7   \n",
       "\n",
       "     A.5_DikeIncrease 1  A.5_DikeIncrease 2  \n",
       "107                   3                   1  \n",
       "128                   0                   0  \n",
       "956                   0                   0  \n",
       "\n",
       "[3 rows x 31 columns]"
      ]
     },
     "execution_count": 7,
     "metadata": {},
     "output_type": "execute_result"
    }
   ],
   "source": [
    "#identified the lever values that provided those solutions\n",
    "policies = int_solutions\n",
    "policies = policies.drop([o.name for o in model.outcomes], axis=1)\n",
    "policies = policies.drop([ \"sum rfr\", \"sum deaths\"], axis=1)\n",
    "policies"
   ]
  },
  {
   "cell_type": "code",
   "execution_count": 9,
   "metadata": {},
   "outputs": [
    {
     "data": {
      "text/plain": [
       "[Policy({'0_RfR 0': 0, '0_RfR 1': 0, '0_RfR 2': 0, '1_RfR 0': 0, '1_RfR 1': 0, '1_RfR 2': 0, '2_RfR 0': 0, '2_RfR 1': 0, '2_RfR 2': 0, '3_RfR 0': 0, '3_RfR 1': 0, '3_RfR 2': 0, '4_RfR 0': 0, '4_RfR 1': 0, '4_RfR 2': 0, 'EWS_DaysToThreat': 0, 'A.1_DikeIncrease 0': 2, 'A.1_DikeIncrease 1': 3, 'A.1_DikeIncrease 2': 1, 'A.2_DikeIncrease 0': 10, 'A.2_DikeIncrease 1': 6, 'A.2_DikeIncrease 2': 7, 'A.3_DikeIncrease 0': 5, 'A.3_DikeIncrease 1': 5, 'A.3_DikeIncrease 2': 0, 'A.4_DikeIncrease 0': 0, 'A.4_DikeIncrease 1': 0, 'A.4_DikeIncrease 2': 3, 'A.5_DikeIncrease 0': 0, 'A.5_DikeIncrease 1': 3, 'A.5_DikeIncrease 2': 1}),\n",
       " Policy({'0_RfR 0': 0, '0_RfR 1': 0, '0_RfR 2': 0, '1_RfR 0': 0, '1_RfR 1': 0, '1_RfR 2': 0, '2_RfR 0': 0, '2_RfR 1': 0, '2_RfR 2': 0, '3_RfR 0': 0, '3_RfR 1': 0, '3_RfR 2': 0, '4_RfR 0': 0, '4_RfR 1': 0, '4_RfR 2': 0, 'EWS_DaysToThreat': 0, 'A.1_DikeIncrease 0': 6, 'A.1_DikeIncrease 1': 2, 'A.1_DikeIncrease 2': 0, 'A.2_DikeIncrease 0': 7, 'A.2_DikeIncrease 1': 5, 'A.2_DikeIncrease 2': 5, 'A.3_DikeIncrease 0': 7, 'A.3_DikeIncrease 1': 1, 'A.3_DikeIncrease 2': 4, 'A.4_DikeIncrease 0': 0, 'A.4_DikeIncrease 1': 10, 'A.4_DikeIncrease 2': 1, 'A.5_DikeIncrease 0': 2, 'A.5_DikeIncrease 1': 0, 'A.5_DikeIncrease 2': 0}),\n",
       " Policy({'0_RfR 0': 0, '0_RfR 1': 0, '0_RfR 2': 0, '1_RfR 0': 0, '1_RfR 1': 0, '1_RfR 2': 0, '2_RfR 0': 0, '2_RfR 1': 0, '2_RfR 2': 0, '3_RfR 0': 0, '3_RfR 1': 0, '3_RfR 2': 0, '4_RfR 0': 0, '4_RfR 1': 0, '4_RfR 2': 0, 'EWS_DaysToThreat': 4, 'A.1_DikeIncrease 0': 3, 'A.1_DikeIncrease 1': 1, 'A.1_DikeIncrease 2': 0, 'A.2_DikeIncrease 0': 8, 'A.2_DikeIncrease 1': 9, 'A.2_DikeIncrease 2': 1, 'A.3_DikeIncrease 0': 7, 'A.3_DikeIncrease 1': 0, 'A.3_DikeIncrease 2': 7, 'A.4_DikeIncrease 0': 7, 'A.4_DikeIncrease 1': 4, 'A.4_DikeIncrease 2': 2, 'A.5_DikeIncrease 0': 7, 'A.5_DikeIncrease 1': 0, 'A.5_DikeIncrease 2': 0})]"
      ]
     },
     "execution_count": 9,
     "metadata": {},
     "output_type": "execute_result"
    }
   ],
   "source": [
    "#From the identified levers create a Policy dictionary to be fed to the Multiprocess evaluator\n",
    "policies_to_evaluate = []\n",
    "\n",
    "for i, policy in policies.iterrows():\n",
    "    policies_to_evaluate.append(Policy(str(i), **policy.to_dict()))\n",
    "\n",
    "policies_to_evaluate"
   ]
  },
  {
   "cell_type": "code",
   "execution_count": 10,
   "metadata": {},
   "outputs": [
    {
     "name": "stderr",
     "output_type": "stream",
     "text": [
      "[MainProcess/INFO] pool started\n",
      "[MainProcess/INFO] performing 1000 scenarios * 3 policies * 1 model(s) = 3000 experiments\n",
      "[MainProcess/INFO] 300 cases completed\n",
      "[MainProcess/INFO] 600 cases completed\n",
      "[MainProcess/INFO] 900 cases completed\n",
      "[MainProcess/INFO] 1200 cases completed\n",
      "[MainProcess/INFO] 1500 cases completed\n",
      "[MainProcess/INFO] 1800 cases completed\n",
      "[MainProcess/INFO] 2100 cases completed\n",
      "[MainProcess/INFO] 2400 cases completed\n",
      "[MainProcess/INFO] 2700 cases completed\n",
      "[MainProcess/INFO] 3000 cases completed\n",
      "[MainProcess/INFO] experiments finished\n",
      "[MainProcess/INFO] terminating pool\n"
     ]
    }
   ],
   "source": [
    "#Run scenarios ansd policies random\n",
    "with MultiprocessingEvaluator(model) as evaluator:\n",
    "        results = evaluator.perform_experiments(1000, policies_to_evaluate)"
   ]
  },
  {
   "cell_type": "code",
   "execution_count": 15,
   "metadata": {},
   "outputs": [
    {
     "name": "stderr",
     "output_type": "stream",
     "text": [
      "[MainProcess/INFO] results saved successfully to C:\\Users\\felo1\\OneDrive\\Documents\\GitHub\\epa1361_open_g29\\final assignment\\identified solutions MORDM 1000scenarios.tar.gz\n"
     ]
    }
   ],
   "source": [
    "#Save results\n",
    "from ema_workbench import save_results\n",
    "\n",
    "save_results(results, 'identified solutions MORDM 1000scenarios.tar.gz')"
   ]
  },
  {
   "cell_type": "code",
   "execution_count": 84,
   "metadata": {},
   "outputs": [
    {
     "name": "stderr",
     "output_type": "stream",
     "text": [
      "[MainProcess/INFO] results loaded succesfully from /Users/josefiendewind/Documents/GitHub/epa1361_open_g29/final assignment/identified solutions MORDM 1000scenarios.tar.gz\n"
     ]
    },
    {
     "ename": "ValueError",
     "evalue": "The truth value of a Series is ambiguous. Use a.empty, a.bool(), a.item(), a.any() or a.all().",
     "output_type": "error",
     "traceback": [
      "\u001b[0;31m---------------------------------------------------------------------------\u001b[0m",
      "\u001b[0;31mValueError\u001b[0m                                Traceback (most recent call last)",
      "\u001b[0;32m<ipython-input-84-92e0bbb3618f>\u001b[0m in \u001b[0;36m<module>\u001b[0;34m\u001b[0m\n\u001b[1;32m     16\u001b[0m \u001b[0;34m\u001b[0m\u001b[0m\n\u001b[1;32m     17\u001b[0m \u001b[0;32mfor\u001b[0m \u001b[0mx\u001b[0m \u001b[0;32min\u001b[0m \u001b[0mrange\u001b[0m\u001b[0;34m(\u001b[0m\u001b[0mlen\u001b[0m\u001b[0;34m(\u001b[0m\u001b[0moutcomesdf\u001b[0m\u001b[0;34m)\u001b[0m\u001b[0;34m)\u001b[0m\u001b[0;34m:\u001b[0m\u001b[0;34m\u001b[0m\u001b[0;34m\u001b[0m\u001b[0m\n\u001b[0;32m---> 18\u001b[0;31m     \u001b[0;32mif\u001b[0m \u001b[0moutcomesdf\u001b[0m\u001b[0;34m[\u001b[0m\u001b[0;34m'A.1_Expected Number of Deaths'\u001b[0m\u001b[0;34m]\u001b[0m \u001b[0;34m<=\u001b[0m \u001b[0;36m0\u001b[0m\u001b[0;34m:\u001b[0m\u001b[0;34m\u001b[0m\u001b[0;34m\u001b[0m\u001b[0m\n\u001b[0m\u001b[1;32m     19\u001b[0m         \u001b[0mx\u001b[0m\u001b[0;34m.\u001b[0m\u001b[0mindex\u001b[0m \u001b[0;34m=\u001b[0m \u001b[0;32mTrue\u001b[0m\u001b[0;34m\u001b[0m\u001b[0;34m\u001b[0m\u001b[0m\n\u001b[1;32m     20\u001b[0m     \u001b[0;32melif\u001b[0m \u001b[0moutcomesdf\u001b[0m\u001b[0;34m[\u001b[0m\u001b[0;34m'A.2_Expected Number of Deaths'\u001b[0m\u001b[0;34m]\u001b[0m \u001b[0;34m<=\u001b[0m \u001b[0;36m0.00148\u001b[0m\u001b[0;34m:\u001b[0m\u001b[0;34m\u001b[0m\u001b[0;34m\u001b[0m\u001b[0m\n",
      "\u001b[0;32m~/opt/anaconda3/lib/python3.8/site-packages/pandas/core/generic.py\u001b[0m in \u001b[0;36m__nonzero__\u001b[0;34m(self)\u001b[0m\n\u001b[1;32m   1476\u001b[0m \u001b[0;34m\u001b[0m\u001b[0m\n\u001b[1;32m   1477\u001b[0m     \u001b[0;32mdef\u001b[0m \u001b[0m__nonzero__\u001b[0m\u001b[0;34m(\u001b[0m\u001b[0mself\u001b[0m\u001b[0;34m)\u001b[0m\u001b[0;34m:\u001b[0m\u001b[0;34m\u001b[0m\u001b[0;34m\u001b[0m\u001b[0m\n\u001b[0;32m-> 1478\u001b[0;31m         raise ValueError(\n\u001b[0m\u001b[1;32m   1479\u001b[0m             \u001b[0;34mf\"The truth value of a {type(self).__name__} is ambiguous. \"\u001b[0m\u001b[0;34m\u001b[0m\u001b[0;34m\u001b[0m\u001b[0m\n\u001b[1;32m   1480\u001b[0m             \u001b[0;34m\"Use a.empty, a.bool(), a.item(), a.any() or a.all().\"\u001b[0m\u001b[0;34m\u001b[0m\u001b[0;34m\u001b[0m\u001b[0m\n",
      "\u001b[0;31mValueError\u001b[0m: The truth value of a Series is ambiguous. Use a.empty, a.bool(), a.item(), a.any() or a.all()."
     ]
    }
   ],
   "source": [
    "from ema_workbench import load_results\n",
    "from ema_workbench.analysis import prim\n",
    "from ema_workbench import ema_logging\n",
    "ema_logging.log_to_stderr(ema_logging.INFO)\n",
    "import pandas as pd\n",
    "import matplotlib.pyplot as plt\n",
    "import seaborn as sns\n",
    "import matplotlib.pyplot as plt\n",
    "import numpy as np\n",
    "\n",
    "results = load_results('./identified solutions MORDM 1000scenarios.tar.gz')\n",
    "\n",
    "x, outcomes = results\n",
    "\n",
    "outcomesdf = pd.DataFrame.from_dict(outcomes)\n",
    "\n",
    "#I'm trying to make an array of False and True: True when the constraints apply and False when they don't\n",
    "for x in range(len(outcomesdf)):\n",
    "    if outcomesdf['A.1_Expected Number of Deaths'] <= 0: \n",
    "        x = True\n",
    "    elif outcomesdf['A.2_Expected Number of Deaths'] <= 0.00148: \n",
    "        x = True\n",
    "    elif outcomesdf['A.3_Expected Number of Deaths'] <= 0.001: \n",
    "        x = True\n",
    "    else:\n",
    "        x = False\n",
    "\n",
    "#int_sol = outcomesdf\n",
    "#int_solu = int_sol[int_sol['A.1_Expected Number of Deaths'] <= 0 ]\n",
    "#int_solut = int_solu[int_solu['A.2_Expected Number of Deaths'] <= 0.00148 ]\n",
    "#int_solutions = int_solut[int_solut['A.3_Expected Number of Deaths'] <= 0.001 ] \n",
    "\n",
    "#index = int_solutions.index\n",
    "\n",
    "#int_solutions\n",
    "\n",
    "#y = outcomesdf['A.1_Expected Number of Deaths'] <= 0\n",
    "\n",
    "#prim_obj = prim.Prim(x, y, mass_min=0.05, threshold=0.1, peel_alpha=0.05)\n",
    "#box1 = prim_obj.find_box()\n",
    "\n",
    "#box1.show_tradeoff()\n",
    "#plt.show()\n",
    "\n"
   ]
  },
  {
   "cell_type": "code",
   "execution_count": null,
   "metadata": {},
   "outputs": [],
   "source": [
    "prim_obj = prim.Prim(x, y2, mass_min=0.05, threshold=0.1, peel_alpha=0.05)\n",
    "box2 = prim_obj.find_box()\n",
    "\n",
    "box2.show_tradeoff()\n",
    "plt.show()"
   ]
  },
  {
   "cell_type": "code",
   "execution_count": null,
   "metadata": {},
   "outputs": [],
   "source": [
    "prim_obj = prim.Prim(x, y3, mass_min=0.05, threshold=0.1, peel_alpha=0.05)\n",
    "box3 = prim_obj.find_box()\n",
    "\n",
    "box3.show_tradeoff()\n",
    "plt.show()"
   ]
  },
  {
   "cell_type": "code",
   "execution_count": 34,
   "metadata": {},
   "outputs": [
    {
     "data": {
      "image/png": "[encoded data removed]",
      "text/plain": [
       "<Figure size 241.25x180 with 2 Axes>"
      ]
     },
     "metadata": {
      "needs_background": "light"
     },
     "output_type": "display_data"
    }
   ],
   "source": [
    "#how to include all outcomes?\n",
    "\n",
    "box1.show_pairs_scatter(12)\n",
    "plt.show()"
   ]
  },
  {
   "cell_type": "code",
   "execution_count": null,
   "metadata": {},
   "outputs": [],
   "source": [
    "from ema_workbench.analysis import dimensional_stacking\n",
    "\n",
    "x = experiments\n",
    "y = ...\n",
    "dimensional_stacking.create_pivot_plot(x,y, 2, nbins=3)\n",
    "plt.show()\n",
    "plt.savefig('dimensional stacking.png')"
   ]
  },
  {
   "cell_type": "code",
   "execution_count": null,
   "metadata": {},
   "outputs": [],
   "source": []
  }
 ],
 "metadata": {
  "kernelspec": {
   "display_name": "Python 3",
   "language": "python",
   "name": "python3"
  },
  "language_info": {
   "codemirror_mode": {
    "name": "ipython",
    "version": 3
   },
   "file_extension": ".py",
   "mimetype": "text/x-python",
   "name": "python",
   "nbconvert_exporter": "python",
   "pygments_lexer": "ipython3",
   "version": "3.8.3"
  }
 },
 "nbformat": 4,
 "nbformat_minor": 5
}
