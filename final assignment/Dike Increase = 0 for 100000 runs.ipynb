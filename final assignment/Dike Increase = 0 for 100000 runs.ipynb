{
 "cells": [
  {
   "cell_type": "code",
   "execution_count": 15,
   "metadata": {},
   "outputs": [
    {
     "data": {
      "text/plain": [
       "False    1227\n",
       "dtype: int64"
      ]
     },
     "execution_count": 15,
     "metadata": {},
     "output_type": "execute_result"
    }
   ],
   "source": [
    "from ema_workbench import load_results\n",
    "from ema_workbench.analysis import prim\n",
    "from ema_workbench import ema_logging\n",
    "ema_logging.log_to_stderr(ema_logging.INFO)\n",
    "import pandas as pd\n",
    "import matplotlib.pyplot as plt\n",
    "import seaborn as sns\n",
    "import matplotlib.pyplot as plt\n",
    "import numpy as np\n",
    "\n",
    "results = pd.read_csv('./Optimizationresults 100K.csv')\n",
    "\n",
    "#outcomes = results[[\"A.1 Total Costs\", \"A.1_Expected Number of Deaths\", \"A.2 Total Costs\", \"A.2_Expected Number of Deaths\", \"A.3 Total Costs\", \"A.3_Expected Number of Deaths\", \"A.4 Total Costs\", \"A.4_Expected Number of Deaths\", \"A.5 Total Costs\", \"A.5_Expected Number of Deaths\", \"RfR Total Costs\", \"Expected Evacuation Costs\"]]\n",
    "y = (results['A.1_Expected Number of Deaths'] <= 0) & (results['A.2_Expected Number of Deaths'] <= 0.00148) & (results['A.3_Expected Number of Deaths'] <= 0.001) & (results['A.1_DikeIncrease 0'] <= 0) & (results['A.1_DikeIncrease 1'] <= 0) & (results['A.1_DikeIncrease 2'] <= 0) & (results['A.2_DikeIncrease 0'] <= 0) & (results['A.2_DikeIncrease 1'] <= 0) & (results['A.2_DikeIncrease 2'] <= 0) & (results['A.3_DikeIncrease 0'] <= 0) & (results['A.3_DikeIncrease 1'] <= 0) & (results['A.3_DikeIncrease 2'] <= 0) & (results['A.4_DikeIncrease 0'] <= 0) & (results['A.4_DikeIncrease 1'] <= 0) & (results['A.4_DikeIncrease 2'] <= 0) & (results['A.5_DikeIncrease 0'] <= 0) & (results['A.5_DikeIncrease 1'] <= 0) & (results['A.5_DikeIncrease 2'] <= 0) \n",
    "y.value_counts()\n",
    "\n"
   ]
  },
  {
   "cell_type": "code",
   "execution_count": null,
   "metadata": {},
   "outputs": [],
   "source": []
  }
 ],
 "metadata": {
  "kernelspec": {
   "display_name": "Python 3",
   "language": "python",
   "name": "python3"
  },
  "language_info": {
   "codemirror_mode": {
    "name": "ipython",
    "version": 3
   },
   "file_extension": ".py",
   "mimetype": "text/x-python",
   "name": "python",
   "nbconvert_exporter": "python",
   "pygments_lexer": "ipython3",
   "version": "3.8.3"
  }
 },
 "nbformat": 4,
 "nbformat_minor": 4
}
