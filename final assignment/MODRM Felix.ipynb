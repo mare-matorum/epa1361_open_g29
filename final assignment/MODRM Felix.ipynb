{
 "cells": [
  {
   "cell_type": "code",
   "execution_count": 13,
   "id": "7c3d24bd",
   "metadata": {},
   "outputs": [],
   "source": [
    "from __future__ import (unicode_literals, print_function, absolute_import,\n",
    "                        division)\n",
    "\n",
    "\n",
    "from ema_workbench import (Model, MultiprocessingEvaluator, Policy,\n",
    "                           Scenario, IntegerParameter)\n",
    "from ema_workbench.em_framework.evaluators import BaseEvaluator\n",
    "\n",
    "from ema_workbench.em_framework.evaluators import perform_experiments\n",
    "from ema_workbench.em_framework.optimization import (HyperVolume,\n",
    "                                                     EpsilonProgress)\n",
    "from ema_workbench.em_framework.samplers import sample_uncertainties\n",
    "from ema_workbench.util import ema_logging\n",
    "import time\n",
    "from problem_formulation import get_model_for_problem_formulation\n",
    "import pandas as pd\n",
    "import seaborn as sns\n",
    "from matplotlib import pyplot as plt\n"
   ]
  },
  {
   "cell_type": "code",
   "execution_count": 14,
   "id": "c0cea418",
   "metadata": {},
   "outputs": [],
   "source": [
    "if __name__ == '__main__':\n",
    "    ema_logging.log_to_stderr(ema_logging.INFO)\n",
    "\n",
    "    model, steps = get_model_for_problem_formulation(3)\n",
    "\n",
    "    reference_values = {'Bmax': 175, 'Brate': 1.5, 'pfail': 0.5,\n",
    "                        'discount rate 0': 3.5, 'discount rate 1': 3.5,\n",
    "                        'discount rate 2': 3.5,\n",
    "                        'ID flood wave shape': 4}\n",
    "    scen1 = {}\n",
    "\n",
    "    for key in model.uncertainties:\n",
    "        name_split = key.name.split('_')\n",
    "\n",
    "        if len(name_split) == 1:\n",
    "            scen1.update({key.name: reference_values[key.name]})\n",
    "\n",
    "        else:\n",
    "            scen1.update({key.name: reference_values[name_split[1]]})\n",
    "\n",
    "    ref_scenario = Scenario('reference', **scen1)"
   ]
  },
  {
   "cell_type": "code",
   "execution_count": 4,
   "id": "2ff1555b",
   "metadata": {},
   "outputs": [
    {
     "name": "stderr",
     "output_type": "stream",
     "text": [
      "[MainProcess/INFO] pool started\n",
      "[MainProcess/INFO] performing 2 scenarios * 2 policies * 1 model(s) = 4 experiments\n",
      "[MainProcess/INFO] 1 cases completed\n",
      "[MainProcess/INFO] 2 cases completed\n",
      "[MainProcess/INFO] 3 cases completed\n",
      "[MainProcess/INFO] 4 cases completed\n",
      "[MainProcess/INFO] experiments finished\n",
      "[MainProcess/INFO] terminating pool\n"
     ]
    }
   ],
   "source": [
    "#Run scenarios ansd policies random\n",
    "with MultiprocessingEvaluator(dike_model) as evaluator:\n",
    "        results = evaluator.perform_experiments(2, 2)"
   ]
  },
  {
   "cell_type": "code",
   "execution_count": 17,
   "id": "54e60bd1",
   "metadata": {},
   "outputs": [
    {
     "name": "stderr",
     "output_type": "stream",
     "text": [
      "[MainProcess/INFO] pool started\n",
      "[MainProcess/INFO] generation 0: 0/5000 nfe\n",
      "[MainProcess/INFO] generation 5: 498/5000 nfe\n",
      "[MainProcess/INFO] generation 10: 994/5000 nfe\n",
      "[MainProcess/INFO] generation 15: 1494/5000 nfe\n",
      "[MainProcess/INFO] generation 20: 1994/5000 nfe\n",
      "[MainProcess/INFO] generation 25: 2492/5000 nfe\n",
      "[MainProcess/INFO] generation 30: 2988/5000 nfe\n",
      "[MainProcess/INFO] generation 35: 3488/5000 nfe\n",
      "[MainProcess/INFO] generation 40: 3985/5000 nfe\n",
      "[MainProcess/INFO] generation 45: 4484/5000 nfe\n",
      "[MainProcess/INFO] generation 50: 4979/5000 nfe\n",
      "[MainProcess/INFO] optimization completed, found 338 solutions\n",
      "[MainProcess/INFO] terminating pool\n"
     ]
    }
   ],
   "source": [
    "\n",
    "convergence_metrics = [EpsilonProgress()]\n",
    "\n",
    "espilon = [1e3] * len(model.outcomes)\n",
    "#espilon = [1000000 ,1, 1000000,1,  1000000,1,1000000,1,1000000,1, 1000000,1000000]   \n",
    "\n",
    "nfe = 5000 # 200 proof of principle only, way to low for actual use\n",
    "\n",
    "with MultiprocessingEvaluator(model) as evaluator:\n",
    "        results, convergence = evaluator.optimize(nfe=nfe, searchover='levers',\n",
    "                                                  epsilons=espilon,\n",
    "                                                  convergence=convergence_metrics,\n",
    "                                                  reference=ref_scenario)"
   ]
  },
  {
   "cell_type": "code",
   "execution_count": 22,
   "id": "0f35ef9d",
   "metadata": {},
   "outputs": [
    {
     "data": {
      "image/png": "[encoded data removed]",
      "text/plain": [
       "<Figure size 576x288 with 2 Axes>"
      ]
     },
     "metadata": {
      "needs_background": "light"
     },
     "output_type": "display_data"
    }
   ],
   "source": [
    "fig, (ax1, ax2) = plt.subplots(ncols=2, sharex=True, figsize=(8,4))\n",
    "ax1.plot(convergence.nfe, convergence.epsilon_progress)\n",
    "ax1.set_ylabel('$\\epsilon$-progress')\n",
    "ax1.set_xlabel('number of function evaluations')\n",
    "plt.show()"
   ]
  },
  {
   "cell_type": "code",
   "execution_count": 28,
   "id": "b86373af",
   "metadata": {},
   "outputs": [
    {
     "ename": "SyntaxError",
     "evalue": "invalid syntax (<ipython-input-28-e2383e961cf9>, line 3)",
     "output_type": "error",
     "traceback": [
      "\u001b[1;36m  File \u001b[1;32m\"<ipython-input-28-e2383e961cf9>\"\u001b[1;36m, line \u001b[1;32m3\u001b[0m\n\u001b[1;33m    int_outcomes = results_1[results_1['0_RfR 0']= 0]\u001b[0m\n\u001b[1;37m                                                 ^\u001b[0m\n\u001b[1;31mSyntaxError\u001b[0m\u001b[1;31m:\u001b[0m invalid syntax\n"
     ]
    }
   ],
   "source": [
    "results.keys()\n",
    "\n",
    "int_outcomes = results_1[results_1['0_RfR 0']= 0]\n"
   ]
  },
  {
   "cell_type": "code",
   "execution_count": 15,
   "id": "aa9a509e",
   "metadata": {},
   "outputs": [
    {
     "data": {
      "text/plain": [
       "odict_keys(['A.1 Total Costs', 'A.1_Expected Number of Deaths', 'A.2 Total Costs', 'A.2_Expected Number of Deaths', 'A.3 Total Costs', 'A.3_Expected Number of Deaths', 'A.4 Total Costs', 'A.4_Expected Number of Deaths', 'A.5 Total Costs', 'A.5_Expected Number of Deaths', 'RfR Total Costs', 'Expected Evacuation Costs'])"
      ]
     },
     "execution_count": 15,
     "metadata": {},
     "output_type": "execute_result"
    }
   ],
   "source": [
    "dike_model.outcomes.keys()"
   ]
  },
  {
   "cell_type": "code",
   "execution_count": null,
   "id": "92e8bc72",
   "metadata": {},
   "outputs": [],
   "source": []
  }
 ],
 "metadata": {
  "kernelspec": {
   "display_name": "Python 3",
   "language": "python",
   "name": "python3"
  },
  "language_info": {
   "codemirror_mode": {
    "name": "ipython",
    "version": 3
   },
   "file_extension": ".py",
   "mimetype": "text/x-python",
   "name": "python",
   "nbconvert_exporter": "python",
   "pygments_lexer": "ipython3",
   "version": "3.8.3"
  }
 },
 "nbformat": 4,
 "nbformat_minor": 5
}
